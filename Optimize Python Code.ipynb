{
 "cells": [
  {
   "cell_type": "markdown",
   "metadata": {},
   "source": [
    "# Introduction\n",
    "\n",
    "These are some ideas on how one could speed up their python code. \n",
    "\n",
    "Before we get into it, here are some facts that you should know, and hopefully will make this tutorial make more sense:\n",
    "\n",
    "## Python Language Interpretation\n",
    "- Python is an interpreted language; This means that variable types are not known at run time. This is ~~bad~~ not so good. Compiled languages like C/C++, are \"strongly typed\", which means that the compiler can optimize the code at compiletime, since it knows what it's handling at every moment. \n",
    "\n",
    "\n",
    "- The python code is also \"\"compiled\"\" into a `*.pyc` file. Thisis not a binary file that the hardware can read just yet. The Python interpreter takes the `pyc` and executes translates this to hardware instructions. This is when the variable types, dereferencing of objects etc, takes place. This is also ~~very bad~~ not that good either.\n",
    "\n",
    "\n",
    "- The interpreter is virtual machine, which is also not optimized for the hardware it's running on either (similar to linux \"compile from the source code\" vs \"using the distribution's binaries\" (ugh) ). This is also why Java underperforms C/C++.\n",
    "\n",
    "\n",
    "- Everything in Python is an Object (a class's instance). This is good because it offers lots of flexibility and we can pass and manipulate variables like if there was no ~~segfault~~ tomorrow, but comes at an efficincy price. Because one can add new attributes to an instance basically anywhere in the code, the compiler needs to check **on every call** if the class has that attribute, where it is located in the memory, then execute it. \n",
    "\n",
    "\n",
    "## Iterators\n",
    "There are no `for loops` in python.\n",
    "\n",
    "TBC\n",
    "\n",
    "\n",
    "There are ways we can speed up (as much as possible), but the price to pay is that your code will be less pretty, or a  less readable - well, you can't have everything! Then you must document your code. *Cough, cough*"
   ]
  },
  {
   "cell_type": "markdown",
   "metadata": {},
   "source": [
    "# 1. Intrinsic Operators\n",
    "\n",
    "Operators in python (+, -, \\*, etc.) are available via the `operators` module. It is better to use them directly as functions, instead of a function that calls the operator multiple times. Also, always use built-in functions rather than building your own.\n",
    "\n",
    "\n",
    "For instance"
   ]
  },
  {
   "cell_type": "code",
   "execution_count": 62,
   "metadata": {},
   "outputs": [],
   "source": [
    "import random\n",
    "import operator\n",
    "sample_size = 1000000\n",
    "random_numbers = [random.randint(0,sample_size) for p in range(0,sample_size)]\n",
    "random_numbers2 = [random.randint(0,sample_size) for p in range(0,sample_size)]\n",
    "\n"
   ]
  },
  {
   "cell_type": "markdown",
   "metadata": {},
   "source": [
    "In the following example, the lambda function is called on every iteratios (and that is not that good, as we will see later)"
   ]
  },
  {
   "cell_type": "code",
   "execution_count": 63,
   "metadata": {},
   "outputs": [
    {
     "name": "stdout",
     "output_type": "stream",
     "text": [
      "CPU times: user 181 ms, sys: 31.4 ms, total: 212 ms\n",
      "Wall time: 220 ms\n"
     ]
    }
   ],
   "source": [
    "%%time\n",
    "res=list(map(lambda x,y: x+y, random_numbers, random_numbers2))"
   ]
  },
  {
   "cell_type": "code",
   "execution_count": 64,
   "metadata": {},
   "outputs": [
    {
     "name": "stdout",
     "output_type": "stream",
     "text": [
      "CPU times: user 146 ms, sys: 27.3 ms, total: 173 ms\n",
      "Wall time: 177 ms\n"
     ]
    }
   ],
   "source": [
    "%%time\n",
    "res=list(map(operator.add, random_numbers, random_numbers2))"
   ]
  },
  {
   "cell_type": "markdown",
   "metadata": {},
   "source": [
    "About **25% faster**"
   ]
  },
  {
   "cell_type": "markdown",
   "metadata": {},
   "source": [
    "# Function call overhead\n",
    "\n",
    "As mentioned in the introduction, functions are objects too, and they need to be evaluated during run time, as their arguments. For that reason, functions should handle data aggregation rather than being called on a per element basis."
   ]
  },
  {
   "cell_type": "code",
   "execution_count": 69,
   "metadata": {},
   "outputs": [
    {
     "name": "stdout",
     "output_type": "stream",
     "text": [
      "100 loops, best of 3: 19.4 ms per loop\n"
     ]
    }
   ],
   "source": [
    "%%timeit -n 100\n",
    "\n",
    "# A function in a loop\n",
    "\n",
    "def doubleit(i):\n",
    "        x = i*2\n",
    "    \n",
    "def f():\n",
    "    for i in range(100000): \n",
    "        doubleit(i)\n",
    "f()"
   ]
  },
  {
   "cell_type": "code",
   "execution_count": 70,
   "metadata": {},
   "outputs": [
    {
     "name": "stdout",
     "output_type": "stream",
     "text": [
      "100 loops, best of 3: 7.33 ms per loop\n"
     ]
    }
   ],
   "source": [
    "%%timeit -n 100\n",
    "\n",
    "# A loop in a function\n",
    "\n",
    "def doubleit():\n",
    "    for i in range(100000): \n",
    "        x = i*2\n",
    "def f():\n",
    "    doubleit()\n",
    "\n",
    "f()"
   ]
  },
  {
   "cell_type": "markdown",
   "metadata": {},
   "source": [
    "# `in` operator\n",
    "\n",
    "Dictionaries and sets are implemented using hash tables (fast).\n",
    "Lists and tuples are not.\n",
    "\n",
    "Checking for membership in a list or tuple is not as effecient, as each element must be checked in turn. \n",
    "If you need to check membership very often, use dict or set as your container rather than searching a list."
   ]
  },
  {
   "cell_type": "code",
   "execution_count": 94,
   "metadata": {},
   "outputs": [],
   "source": [
    "letters = 'abcdefghijklmnopqrstuvwxyz'\n",
    "letters_list = [x+y+z+w for x in letters for y in letters for z in letters for w in letters]\n",
    "letters_dict = dict([(x,x) for x in letters_list])\n",
    "letters_set = set(letters_list)"
   ]
  },
  {
   "cell_type": "code",
   "execution_count": 100,
   "metadata": {},
   "outputs": [
    {
     "name": "stdout",
     "output_type": "stream",
     "text": [
      "100 loops, best of 3: 9.84 ms per loop\n"
     ]
    }
   ],
   "source": [
    "%%timeit -n 100\n",
    "\n",
    "# Loop in list\n",
    "\"zzzz\" in letters_list"
   ]
  },
  {
   "cell_type": "code",
   "execution_count": 96,
   "metadata": {},
   "outputs": [
    {
     "name": "stdout",
     "output_type": "stream",
     "text": [
      "100 loops, best of 3: 133 ns per loop\n"
     ]
    }
   ],
   "source": [
    "%%timeit -n 100\n",
    "\n",
    "# Loop in dict\n",
    "\"zzzz\" in letters_dict"
   ]
  },
  {
   "cell_type": "code",
   "execution_count": 101,
   "metadata": {},
   "outputs": [
    {
     "name": "stdout",
     "output_type": "stream",
     "text": [
      "100 loops, best of 3: 85.3 ns per loop\n"
     ]
    }
   ],
   "source": [
    "%%timeit -n 100\n",
    "\n",
    "# Loop in set\n",
    "\"zzzz\" in letters_set"
   ]
  },
  {
   "cell_type": "markdown",
   "metadata": {},
   "source": [
    "# Strings\n",
    "\n",
    "Strings are immuatable. This means everytime you modify a string, say with the operator '+' you are actually copying the string data over and over. Strings have built-in (read \"optimized\") operators that avoid the copying overhead."
   ]
  },
  {
   "cell_type": "code",
   "execution_count": 103,
   "metadata": {},
   "outputs": [
    {
     "name": "stdout",
     "output_type": "stream",
     "text": [
      "100 loops, best of 3: 122 ms per loop\n"
     ]
    }
   ],
   "source": [
    "%%timeit -n 100\n",
    "\n",
    "# hand-built concatenation:\n",
    "def concat_string(str_list):\n",
    "    text = \"\"\n",
    "    for s in str_list:\n",
    "        text += \" \"+s\n",
    "\n",
    "res = concat_string(letters_list)"
   ]
  },
  {
   "cell_type": "code",
   "execution_count": 104,
   "metadata": {},
   "outputs": [
    {
     "name": "stdout",
     "output_type": "stream",
     "text": [
      "100 loops, best of 3: 8.1 ms per loop\n"
     ]
    }
   ],
   "source": [
    "%%timeit -n 100\n",
    "\n",
    "# Using the str.join():\n",
    "res = \" \".join(letters_list)"
   ]
  },
  {
   "cell_type": "markdown",
   "metadata": {},
   "source": [
    "# Decorators for caching\n",
    "\n",
    "Decorator functions can be used to cache results to speed up things. This is useful when one can store intermediate steps (or checkpoints)."
   ]
  },
  {
   "cell_type": "code",
   "execution_count": 106,
   "metadata": {
    "collapsed": true
   },
   "outputs": [],
   "source": [
    "def fib(i):\n",
    "    if i < 2: return 1\n",
    "    return fib(i-1) + fib(i-2)"
   ]
  },
  {
   "cell_type": "code",
   "execution_count": 115,
   "metadata": {},
   "outputs": [
    {
     "name": "stdout",
     "output_type": "stream",
     "text": [
      "100 loops, best of 3: 49 ms per loop\n"
     ]
    }
   ],
   "source": [
    "%%timeit -n 100\n",
    "\n",
    "fib(25)"
   ]
  },
  {
   "cell_type": "code",
   "execution_count": 116,
   "metadata": {
    "collapsed": true
   },
   "outputs": [],
   "source": [
    "# Create the decorator\n",
    "from functools import wraps\n",
    "\n",
    "def cache(f):\n",
    "    cache = { }\n",
    "    @wraps(f)\n",
    "    def wrap(*arg):\n",
    "        if arg not in cache: cache[arg] = f(*arg)\n",
    "        return cache[arg]\n",
    "    return wrap\n",
    "\n",
    "@cache\n",
    "def fib_decorated(i):\n",
    "    if i < 2: return 1\n",
    "    return fib(i-1) + fib(i-2)"
   ]
  },
  {
   "cell_type": "code",
   "execution_count": 118,
   "metadata": {},
   "outputs": [
    {
     "name": "stdout",
     "output_type": "stream",
     "text": [
      "The slowest run took 1916.18 times longer than the fastest. This could mean that an intermediate result is being cached.\n",
      "100 loops, best of 3: 413 ns per loop\n"
     ]
    }
   ],
   "source": [
    "%%timeit -n 100\n",
    "\n",
    "fib_decorated(25)"
   ]
  },
  {
   "cell_type": "markdown",
   "metadata": {},
   "source": [
    "# Object access\n",
    "\n",
    "As mentioned in the introduction, accessing object properties (with the `.` operator) has an efficiency impact. This is because Python needs to figure out what is being access exists at that time, what it is, where it is in the memory map, and then executed. Although this may seem as a tiny amount of time, it can add up over millions of operations.\n",
    "\n",
    "This is problematic for instance in loops. To adpeed things up, you can store the function object as a variable outside of the loop, and call it on every iteration"
   ]
  },
  {
   "cell_type": "code",
   "execution_count": 127,
   "metadata": {},
   "outputs": [],
   "source": [
    "lowerlist = ['abcdefghijklmnopqrstuvwxyz'[:random.randint(0,25)] for x in range(10000)]\n",
    "upperlist = []"
   ]
  },
  {
   "cell_type": "code",
   "execution_count": 137,
   "metadata": {},
   "outputs": [
    {
     "name": "stdout",
     "output_type": "stream",
     "text": [
      "500 loops, best of 3: 7.42 ms per loop\n"
     ]
    }
   ],
   "source": [
    "%%timeit -n 500\n",
    "\n",
    "# This uses two \".\" calls: \n",
    "def to_upper_1():\n",
    "    for word in lowerlist:\n",
    "        upperlist.append(str.upper(word))\n",
    "        \n",
    "to_upper_1()"
   ]
  },
  {
   "cell_type": "code",
   "execution_count": 138,
   "metadata": {},
   "outputs": [
    {
     "name": "stdout",
     "output_type": "stream",
     "text": [
      "500 loops, best of 3: 5.13 ms per loop\n"
     ]
    }
   ],
   "source": [
    "%%timeit -n 500\n",
    "\n",
    "# This uses two \".\" calls: \n",
    "upper = str.upper\n",
    "append = upperlist.append\n",
    "\n",
    "def to_upper_2():\n",
    "    for word in lowerlist:\n",
    "        append(upper(word))\n",
    "        \n",
    "to_upper_2()"
   ]
  },
  {
   "cell_type": "markdown",
   "metadata": {},
   "source": [
    "# Scoped Variables\n",
    "\n",
    "Variables inside a scope are accessed faster than \"out-of-scope\" variables. In the example above, the operator functions and wordlist are defined outside of the function `to_upper_2()`. Move those variable inside a function so the all belong to the same scope."
   ]
  },
  {
   "cell_type": "code",
   "execution_count": 139,
   "metadata": {},
   "outputs": [
    {
     "name": "stdout",
     "output_type": "stream",
     "text": [
      "500 loops, best of 3: 4.54 ms per loop\n"
     ]
    }
   ],
   "source": [
    "%%timeit -n 500\n",
    "\n",
    "def to_upper_3():\n",
    "    upperlist = []\n",
    "    upper = str.upper\n",
    "    append = upperlist.append\n",
    "    for word in lowerlist:\n",
    "        append(upper(word))\n",
    "    return upperlist\n",
    "        \n",
    "upperlist = to_upper_3()"
   ]
  },
  {
   "cell_type": "code",
   "execution_count": null,
   "metadata": {
    "collapsed": true
   },
   "outputs": [],
   "source": []
  },
  {
   "cell_type": "code",
   "execution_count": null,
   "metadata": {
    "collapsed": true
   },
   "outputs": [],
   "source": []
  },
  {
   "cell_type": "code",
   "execution_count": null,
   "metadata": {
    "collapsed": true
   },
   "outputs": [],
   "source": []
  },
  {
   "cell_type": "code",
   "execution_count": null,
   "metadata": {
    "collapsed": true
   },
   "outputs": [],
   "source": []
  },
  {
   "cell_type": "markdown",
   "metadata": {},
   "source": [
    "# References\n",
    " - https://nyu-cds.github.io/python-performance-tips/"
   ]
  },
  {
   "cell_type": "markdown",
   "metadata": {},
   "source": [
    "# License\n",
    "\n",
    "This work is derived from work that is Copyright © Software Carpentry (http://software-carpentry.org/), under the [Creative Commons License](https://creativecommons.org/licenses/by/4.0/legalcode). Examples have been expanded or reduced. Text was modified."
   ]
  }
 ],
 "metadata": {
  "kernelspec": {
   "display_name": "Python 3",
   "language": "python",
   "name": "python3"
  },
  "language_info": {
   "codemirror_mode": {
    "name": "ipython",
    "version": 3
   },
   "file_extension": ".py",
   "mimetype": "text/x-python",
   "name": "python",
   "nbconvert_exporter": "python",
   "pygments_lexer": "ipython3",
   "version": "3.6.1"
  }
 },
 "nbformat": 4,
 "nbformat_minor": 2
}
